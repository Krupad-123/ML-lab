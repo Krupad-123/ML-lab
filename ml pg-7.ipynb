{
 "cells": [
  {
   "cell_type": "code",
   "execution_count": 1,
   "metadata": {},
   "outputs": [
    {
     "ename": "ModuleNotFoundError",
     "evalue": "No module named 'pgmpy'",
     "output_type": "error",
     "traceback": [
      "\u001b[1;31m---------------------------------------------------------------------------\u001b[0m",
      "\u001b[1;31mModuleNotFoundError\u001b[0m                       Traceback (most recent call last)",
      "\u001b[1;32m<ipython-input-1-a72c89f3dca2>\u001b[0m in \u001b[0;36m<module>\u001b[1;34m\u001b[0m\n\u001b[0;32m     23\u001b[0m \u001b[0mheartDisease\u001b[0m\u001b[1;33m.\u001b[0m\u001b[0mcolumns\u001b[0m\u001b[1;33m\u001b[0m\u001b[1;33m\u001b[0m\u001b[0m\n\u001b[0;32m     24\u001b[0m \u001b[1;33m\u001b[0m\u001b[0m\n\u001b[1;32m---> 25\u001b[1;33m \u001b[1;32mfrom\u001b[0m \u001b[0mpgmpy\u001b[0m\u001b[1;33m.\u001b[0m\u001b[0mmodels\u001b[0m \u001b[1;32mimport\u001b[0m \u001b[0mBayesianModel\u001b[0m\u001b[1;33m\u001b[0m\u001b[1;33m\u001b[0m\u001b[0m\n\u001b[0m\u001b[0;32m     26\u001b[0m \u001b[1;32mfrom\u001b[0m \u001b[0mpgmpy\u001b[0m\u001b[1;33m.\u001b[0m\u001b[0mestimators\u001b[0m \u001b[1;32mimport\u001b[0m \u001b[0mMaximumLikelihoodEstimator\u001b[0m\u001b[1;33m,\u001b[0m \u001b[0mBayesianEstimator\u001b[0m\u001b[1;33m\u001b[0m\u001b[1;33m\u001b[0m\u001b[0m\n\u001b[0;32m     27\u001b[0m \u001b[1;33m\u001b[0m\u001b[0m\n",
      "\u001b[1;31mModuleNotFoundError\u001b[0m: No module named 'pgmpy'"
     ]
    }
   ],
   "source": [
    "import numpy as np \n",
    "import sys \n",
    "from urllib.request import urlopen \n",
    "import numpy as np \n",
    "import sys \n",
    "from urllib.request import urlopen \n",
    "import urllib \n",
    "import pandas as pd \n",
    " \n",
    "Cleveland_data_URL = 'http://archive.ics.uci.edu/ml/machine-learning-databases/heart-disease/processed.hungarian.data' \n",
    "np.set_printoptions(threshold=sys.maxsize) \n",
    "#see a whole array when w e output it \n",
    "names = ['age', 'sex', 'cp', 'trestbps', 'chol', 'fbs', 'restecg', ' thalach', 'exang', 'oldpeak', 'slope', 'ca', 'thal', 'heartdisease'] \n",
    "heartDisease = pd.read_csv(urlopen(Cleveland_data_URL),names = names)\n",
    "heartDisease.head() \n",
    "del heartDisease['ca']  \n",
    "del heartDisease['slope']  \n",
    "del heartDisease['thal'] \n",
    "del heartDisease['oldpeak'] \n",
    " \n",
    "heartDisease = heartDisease.replace('?', np.nan)  \n",
    "heartDisease.dtypes \n",
    "heartDisease.columns \n",
    " \n",
    "from pgmpy.models import BayesianModel \n",
    "from pgmpy.estimators import MaximumLikelihoodEstimator, BayesianEstimator  \n",
    "\n",
    "model = BayesianModel([('age', 'trestbps'), ('age', 'fbs'), ('sex', \n",
    "'trestbps'), ('sex', 'trestbps'), \n",
    "('exang', 'trestbps'),('trestbps','heartdisease'),('fbs','heartdisea se'),('heartdisease','restecg'),('heartdisease','thalach'),('heartdi sease','chol')]) \n",
    " \n",
    "# Learing CPDs using Maximum Likelihood Estimators  \n",
    "model.fit(heartDisease, estimator=MaximumLikelihoodEstimator)  \n",
    "print(model.get_cpds('age')) \n",
    "print(model.get_cpds('chol')) \n",
    "print(model.get_cpds('sex')) \n",
    "model.get_independencies() \n",
    "\n",
    "from pgmpy.inference import VariableElimination  \n",
    "HeartDisease_infer = VariableElimination(model) \n",
    " \n",
    "# Computing the probability of bronc given smoke. \n",
    "q = HeartDisease_infer.query(variables=['heartdisease'], evidence={'age': 28}) \n",
    "print(q['heartdisease']) \n",
    " \n",
    "q = HeartDisease_infer.query(variables=['heartdisease'], evidence={'chol': 100}) \n",
    "print(q['heartdisease']) \n"
   ]
  },
  {
   "cell_type": "code",
   "execution_count": null,
   "metadata": {},
   "outputs": [],
   "source": []
  },
  {
   "cell_type": "code",
   "execution_count": null,
   "metadata": {},
   "outputs": [],
   "source": []
  },
  {
   "cell_type": "code",
   "execution_count": null,
   "metadata": {},
   "outputs": [],
   "source": []
  },
  {
   "cell_type": "code",
   "execution_count": null,
   "metadata": {},
   "outputs": [],
   "source": []
  },
  {
   "cell_type": "code",
   "execution_count": null,
   "metadata": {},
   "outputs": [],
   "source": []
  },
  {
   "cell_type": "code",
   "execution_count": null,
   "metadata": {},
   "outputs": [],
   "source": []
  },
  {
   "cell_type": "code",
   "execution_count": null,
   "metadata": {},
   "outputs": [],
   "source": []
  },
  {
   "cell_type": "code",
   "execution_count": null,
   "metadata": {},
   "outputs": [],
   "source": []
  },
  {
   "cell_type": "code",
   "execution_count": null,
   "metadata": {},
   "outputs": [],
   "source": []
  },
  {
   "cell_type": "code",
   "execution_count": null,
   "metadata": {},
   "outputs": [],
   "source": []
  },
  {
   "cell_type": "code",
   "execution_count": null,
   "metadata": {},
   "outputs": [],
   "source": []
  },
  {
   "cell_type": "code",
   "execution_count": null,
   "metadata": {},
   "outputs": [],
   "source": []
  },
  {
   "cell_type": "code",
   "execution_count": null,
   "metadata": {},
   "outputs": [],
   "source": []
  },
  {
   "cell_type": "code",
   "execution_count": null,
   "metadata": {},
   "outputs": [],
   "source": []
  },
  {
   "cell_type": "code",
   "execution_count": null,
   "metadata": {},
   "outputs": [],
   "source": []
  },
  {
   "cell_type": "code",
   "execution_count": null,
   "metadata": {},
   "outputs": [],
   "source": []
  },
  {
   "cell_type": "code",
   "execution_count": null,
   "metadata": {},
   "outputs": [],
   "source": []
  },
  {
   "cell_type": "code",
   "execution_count": null,
   "metadata": {},
   "outputs": [],
   "source": []
  },
  {
   "cell_type": "code",
   "execution_count": null,
   "metadata": {},
   "outputs": [],
   "source": []
  },
  {
   "cell_type": "code",
   "execution_count": null,
   "metadata": {},
   "outputs": [],
   "source": []
  }
 ],
 "metadata": {
  "kernelspec": {
   "display_name": "Python 3",
   "language": "python",
   "name": "python3"
  },
  "language_info": {
   "codemirror_mode": {
    "name": "ipython",
    "version": 3
   },
   "file_extension": ".py",
   "mimetype": "text/x-python",
   "name": "python",
   "nbconvert_exporter": "python",
   "pygments_lexer": "ipython3",
   "version": "3.8.3"
  }
 },
 "nbformat": 4,
 "nbformat_minor": 4
}
